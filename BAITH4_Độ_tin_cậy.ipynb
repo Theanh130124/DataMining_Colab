{
  "nbformat": 4,
  "nbformat_minor": 0,
  "metadata": {
    "colab": {
      "provenance": [],
      "authorship_tag": "ABX9TyMzmJpi6AcjxNs7SjxXl8zm",
      "include_colab_link": true
    },
    "kernelspec": {
      "name": "python3",
      "display_name": "Python 3"
    },
    "language_info": {
      "name": "python"
    }
  },
  "cells": [
    {
      "cell_type": "markdown",
      "metadata": {
        "id": "view-in-github",
        "colab_type": "text"
      },
      "source": [
        "<a href=\"https://colab.research.google.com/github/Theanh130124/Datamining_srccode/blob/main/BAITH4_%C4%90%E1%BB%99_tin_c%E1%BA%ADy.ipynb\" target=\"_parent\"><img src=\"https://colab.research.google.com/assets/colab-badge.svg\" alt=\"Open In Colab\"/></a>"
      ]
    },
    {
      "cell_type": "markdown",
      "source": [
        "Cau 1 : Sử dụng tập tin GroceryStỏe-AssocialRuless .txt"
      ],
      "metadata": {
        "id": "3quom3RlTeLL"
      }
    },
    {
      "cell_type": "code",
      "execution_count": null,
      "metadata": {
        "id": "MprvtTrkTW_y"
      },
      "outputs": [],
      "source": [
        "\n",
        "# ** Sinh viên cần copy đoạn mã hóa one-hot encoding sẵn bên dưới ra file excel, đặt lại tên cột đầu tiên là TID rồi lưu thành file csv. from numpy.lib.shape_base import column_stack\n",
        "# Dô trông file excel copy nó vào rồi vào Saveas chỉnh về csv\n",
        "from mlxtend. frequent_patterns import apriori\n",
        "from mixtend. frequent patterns import association_rules\n",
        "import pandas as pd\n",
        "# Đọc dữ liệu từ tập tin\n",
        "pd.read_csv('/content/glossercy.csv', sep=\"\")\n",
        "# Chuyển đổi dữ liệu thành dạng One-Hot Encoding\n",
        "data_encoded = data.drop('No', 1).applymap(lambda x: True if x == 1 else False)\n",
        "# Áp dụng thuật toán Apriori để tìm các luật kết hợp\n",
        "frequent itemsets apriori (data_encoded, min_support-0.1, use colnames-True)\n",
        "# Tìm các luật kết hợp dựa trên frequent itemsets và độ tin cậy\n",
        "rules association_rules (frequent_itemsets, metric=\"confidence\", min_threshold=0.8)\n",
        "## Có thể điều chỉnh `min_threshold\" tùy vào nhu cầu! Trong khoảng 0 -> 1 tương ứng với độ tin cậy của kết quả đầu ra\n",
        "## Một giá trị ngưỡng cao sẽ tạo ra ít luật hơn nhưng có độ tin cậy cao, trong khi một giá trị ngưỡng thấp sẽ tạo ra nhiều luật hơn nhưng có độ tin cậy thấp.\n",
        "# Luu ra file csv\n",
        "rules.to_excel (\"test_rese0.5.xlsx\")\n",
        "# In kết quả\n",
        "print(rules)"
      ]
    },
    {
      "cell_type": "markdown",
      "source": [
        "\n",
        "Câu 2\n",
        "> Thêm khối trích dẫn\n",
        "\n"
      ],
      "metadata": {
        "id": "-BjO4X0pWK2n"
      }
    },
    {
      "cell_type": "code",
      "source": [
        "\n",
        "import pandas as pd\n",
        "from mlxtend.preprocessing import TransactionEncoder\n",
        "from mlxtend. frequent_patterns import apriori, association_rules\n",
        "df = pd.read_csv(\"/content/drive/MyDrive/Colab Notebooks/KPDL/CAC BUOI THUC HANH/BTH04/diemthi_hcm.csv\")\n",
        "# Lọc ra các cột cần tính toán\n",
        "df_khtn = df[[\"Toan\", \"Nguvan\", \"Ngoaingu\", \"Vatli\", \"Hoahoc\", \"Sinhhoc\"]]\n",
        "df_khtn"
      ],
      "metadata": {
        "id": "M9BmmiuBWJV4"
      },
      "execution_count": null,
      "outputs": []
    },
    {
      "cell_type": "code",
      "source": [
        "#Thay đổi điểm thi theo điều kiện\n",
        "df_khtn = df_khtn.applymap(lambda x: 1 if x >= 8.0 else 0)\n",
        "df_khtn"
      ],
      "metadata": {
        "id": "QkOBg2fgWYOo"
      },
      "execution_count": null,
      "outputs": []
    },
    {
      "cell_type": "code",
      "source": [
        "\n",
        "# Chuyển đổi dữ liệu thành dạng One-Hot Encoding data_encoded df_khtn.applymap (lambda x: True if x == 1 else False)\n",
        "# Áp dụng thuật toán Apriori để tìm các luật kết hợp\n",
        "frequent_itemsets\n",
        "apriori (data_encoded, min_support-0.1, use_colnames-True)\n",
        "# Tìm các luật kết hợp dựa trên frequent itemsets và độ tin cậy\n",
        "rules - association_rules (frequent_itemsets, metric-\"confidence\", min_threshold-0.1)\n",
        "print (rules)\n",
        "rules.to_excel (\"demo.xlsx\")"
      ],
      "metadata": {
        "id": "C5kOQWOUWxiD"
      },
      "execution_count": null,
      "outputs": []
    },
    {
      "cell_type": "code",
      "source": [
        "! pip install pyfpgrowth"
      ],
      "metadata": {
        "id": "xEpU5A4gXGoO"
      },
      "execution_count": null,
      "outputs": []
    },
    {
      "cell_type": "code",
      "source": [
        "\n",
        "import pandas as pd\n",
        "from mixtend.preprocessing import TransactionEncoder\n",
        "import pyfpgrowth\n",
        "df = pd.read_csv(\"/content/drive/MyDrive/Colab Notebooks/KPDL/CAC BUOI THUC HANH/BTH04/diemthi_hcm.csv\") # Lọc ra các cột cần tính toán\n",
        "df_khtn=df[[\"Toan\", \"Nguvan\", \"Ngoaingu\", \"Vatli\", \"Hoahoc\", \"Sinhhoc\"]]\n",
        "df khtn"
      ],
      "metadata": {
        "id": "ubHakymmXSuD"
      },
      "execution_count": null,
      "outputs": []
    },
    {
      "cell_type": "code",
      "source": [
        "\n",
        "# Convert DataFrame to transactional format\n",
        "transactions = df_khtn.apply(lambda row: [col for col, val in row.items() if val > 8], axis=1).tolist()\n",
        "# Apply FP-Growth algorithm to find frequent itemsets\n",
        "patterns = pyfpgrowth.find_frequent_patterns (transactions, 0.1)\n",
        "# Generate association rules from frequent itemsets\n",
        "rules = pyfpgrowth.generate_association_rules (patterns, 0.5)\n",
        "# Print the discovered rules\n",
        "for rule, support in rules.items():\n",
        "antecedent = ' , '.join(rule)\n",
        "consequent = ' , '.join(rules[rule][0])\n",
        "confidence = rules[rule][1]\n",
        "print (f\"Rule: {antecedent} -> {consequent}\")\n",
        "print (f\"Support: {support}\")\n",
        "print (f\"Confidence: {confidence}\")\n",
        "print()"
      ],
      "metadata": {
        "id": "GISHKQP9Xybk"
      },
      "execution_count": null,
      "outputs": []
    },
    {
      "cell_type": "code",
      "source": [
        "\n",
        "# Hệ số tương quan (Correlation Coefficient) import seaborn as sns\n",
        "import matplotlib.pyplot as plt.\n",
        "plt.figure(figsize=(12, 6))\n",
        "sns.heatmap(df [[\"Toan\", \"Nguvan\", \"Ngoaingu\", \"Vatli\", \"Hoahoc\", \"Sinhhoc\"]].corr(), vmin=-1, vmax=1, annot=True, cmap='BrBG')"
      ],
      "metadata": {
        "colab": {
          "base_uri": "https://localhost:8080/",
          "height": 106
        },
        "id": "ZnsfEQC0YjSB",
        "outputId": "202fc156-6987-4ba2-e4f8-3c706fabf6cc"
      },
      "execution_count": null,
      "outputs": [
        {
          "output_type": "error",
          "ename": "SyntaxError",
          "evalue": "invalid syntax (<ipython-input-1-804a87cee2fc>, line 2)",
          "traceback": [
            "\u001b[0;36m  File \u001b[0;32m\"<ipython-input-1-804a87cee2fc>\"\u001b[0;36m, line \u001b[0;32m2\u001b[0m\n\u001b[0;31m    import matplotlib.pyplot as plt.\u001b[0m\n\u001b[0m                                   ^\u001b[0m\n\u001b[0;31mSyntaxError\u001b[0m\u001b[0;31m:\u001b[0m invalid syntax\n"
          ]
        }
      ]
    }
  ]
}