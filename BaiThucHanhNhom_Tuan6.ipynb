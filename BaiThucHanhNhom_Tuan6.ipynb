{
  "nbformat": 4,
  "nbformat_minor": 0,
  "metadata": {
    "colab": {
      "provenance": [],
      "authorship_tag": "ABX9TyPEhuzIHdpPXK0/vTXgVqUQ",
      "include_colab_link": true
    },
    "kernelspec": {
      "name": "python3",
      "display_name": "Python 3"
    },
    "language_info": {
      "name": "python"
    }
  },
  "cells": [
    {
      "cell_type": "markdown",
      "metadata": {
        "id": "view-in-github",
        "colab_type": "text"
      },
      "source": [
        "<a href=\"https://colab.research.google.com/github/Theanh130124/DataMining_Colab/blob/main/BaiThucHanhNhom_Tuan6.ipynb\" target=\"_parent\"><img src=\"https://colab.research.google.com/assets/colab-badge.svg\" alt=\"Open In Colab\"/></a>"
      ]
    },
    {
      "cell_type": "markdown",
      "source": [
        "CÂU 1: CHUẨN BỊ MÔI TRƯỜNG"
      ],
      "metadata": {
        "id": "E5OsFIhc_tDT"
      }
    },
    {
      "cell_type": "code",
      "execution_count": 1,
      "metadata": {
        "id": "MPPejfDB7cx3"
      },
      "outputs": [],
      "source": [
        "# Import các thư viện cần thiết\n",
        "import pandas as pd\n",
        "import numpy as np\n",
        "from sklearn.model_selection import train_test_split, cross_val_score, StratifiedKFold\n",
        "from sklearn.tree import DecisionTreeClassifier\n",
        "from sklearn.metrics import confusion_matrix, classification_report, accuracy_score\n",
        "from sklearn.naive_bayes import GaussianNB\n",
        "from sklearn.preprocessing import LabelEncoder\n",
        "from sklearn.utils import shuffle\n",
        "\n",
        "# Tải dữ liệu từ file optdigits.csv\n",
        "data = pd.read_csv('/content/optdigits.csv')  # Cập nhật đường dẫn nếu cần\n",
        "\n",
        "\n",
        "\n",
        "\n",
        "# Tách dữ liệu thành X (features) và y (target label)\n",
        "X = data.iloc[:, :-1]  # Tất cả cột trừ cột cuối (features)\n",
        "y = data.iloc[:, -1]   # Cột cuối cùng (label)\n",
        "\n",
        "# Bảo đảm dữ liệu ngẫu nhiên\n",
        "X, y = shuffle(X, y, random_state=42)"
      ]
    },
    {
      "cell_type": "code",
      "source": [
        "# Hiển thị 5 dòng dữ liệu đầu tiên\n",
        "print(\"Dữ liệu ban đầu:\")\n",
        "print(data.head())"
      ],
      "metadata": {
        "colab": {
          "base_uri": "https://localhost:8080/"
        },
        "id": "iKUb5CQi_eu_",
        "outputId": "a45afc71-5023-4407-adb7-ac0eaf0bcef8"
      },
      "execution_count": 2,
      "outputs": [
        {
          "output_type": "stream",
          "name": "stdout",
          "text": [
            "Dữ liệu ban đầu:\n",
            "   input1  input2  input3  input4  input5  input6  input7  input8  input9  \\\n",
            "0       0       1       6      15      12       1       0       0       0   \n",
            "1       0       0      10      16       6       0       0       0       0   \n",
            "2       0       0       8      15      16      13       0       0       0   \n",
            "3       0       0       0       3      11      16       0       0       0   \n",
            "4       0       0       5      14       4       0       0       0       0   \n",
            "\n",
            "   input10  ...  input56  input57  input58  input59  input60  input61  \\\n",
            "0        7  ...        0        0        0        6       14        7   \n",
            "1        7  ...        0        0        0       10       16       15   \n",
            "2        1  ...        0        0        0        9       14        0   \n",
            "3        0  ...        0        0        0        0        1       15   \n",
            "4        0  ...        0        0        0        4       12       14   \n",
            "\n",
            "   input62  input63  input64  class  \n",
            "0        1        0        0      0  \n",
            "1        3        0        0      0  \n",
            "2        0        0        0      7  \n",
            "3        2        0        0      4  \n",
            "4        7        0        0      6  \n",
            "\n",
            "[5 rows x 65 columns]\n"
          ]
        }
      ]
    },
    {
      "cell_type": "code",
      "source": [
        "# Kiểm tra các thông tin cơ bản về dữ liệu\n",
        "print(\"\\nThông tin về dữ liệu:\")\n",
        "print(data.info())"
      ],
      "metadata": {
        "colab": {
          "base_uri": "https://localhost:8080/"
        },
        "id": "qvdJYqdb_e-A",
        "outputId": "e95fb10e-5f07-42fe-9b6b-88e1b0a86fd6"
      },
      "execution_count": 3,
      "outputs": [
        {
          "output_type": "stream",
          "name": "stdout",
          "text": [
            "\n",
            "Thông tin về dữ liệu:\n",
            "<class 'pandas.core.frame.DataFrame'>\n",
            "RangeIndex: 5620 entries, 0 to 5619\n",
            "Data columns (total 65 columns):\n",
            " #   Column   Non-Null Count  Dtype\n",
            "---  ------   --------------  -----\n",
            " 0   input1   5620 non-null   int64\n",
            " 1   input2   5620 non-null   int64\n",
            " 2   input3   5620 non-null   int64\n",
            " 3   input4   5620 non-null   int64\n",
            " 4   input5   5620 non-null   int64\n",
            " 5   input6   5620 non-null   int64\n",
            " 6   input7   5620 non-null   int64\n",
            " 7   input8   5620 non-null   int64\n",
            " 8   input9   5620 non-null   int64\n",
            " 9   input10  5620 non-null   int64\n",
            " 10  input11  5620 non-null   int64\n",
            " 11  input12  5620 non-null   int64\n",
            " 12  input13  5620 non-null   int64\n",
            " 13  input14  5620 non-null   int64\n",
            " 14  input15  5620 non-null   int64\n",
            " 15  input16  5620 non-null   int64\n",
            " 16  input17  5620 non-null   int64\n",
            " 17  input18  5620 non-null   int64\n",
            " 18  input19  5620 non-null   int64\n",
            " 19  input20  5620 non-null   int64\n",
            " 20  input21  5620 non-null   int64\n",
            " 21  input22  5620 non-null   int64\n",
            " 22  input23  5620 non-null   int64\n",
            " 23  input24  5620 non-null   int64\n",
            " 24  input25  5620 non-null   int64\n",
            " 25  input26  5620 non-null   int64\n",
            " 26  input27  5620 non-null   int64\n",
            " 27  input28  5620 non-null   int64\n",
            " 28  input29  5620 non-null   int64\n",
            " 29  input30  5620 non-null   int64\n",
            " 30  input31  5620 non-null   int64\n",
            " 31  input32  5620 non-null   int64\n",
            " 32  input33  5620 non-null   int64\n",
            " 33  input34  5620 non-null   int64\n",
            " 34  input35  5620 non-null   int64\n",
            " 35  input36  5620 non-null   int64\n",
            " 36  input37  5620 non-null   int64\n",
            " 37  input38  5620 non-null   int64\n",
            " 38  input39  5620 non-null   int64\n",
            " 39  input40  5620 non-null   int64\n",
            " 40  input41  5620 non-null   int64\n",
            " 41  input42  5620 non-null   int64\n",
            " 42  input43  5620 non-null   int64\n",
            " 43  input44  5620 non-null   int64\n",
            " 44  input45  5620 non-null   int64\n",
            " 45  input46  5620 non-null   int64\n",
            " 46  input47  5620 non-null   int64\n",
            " 47  input48  5620 non-null   int64\n",
            " 48  input49  5620 non-null   int64\n",
            " 49  input50  5620 non-null   int64\n",
            " 50  input51  5620 non-null   int64\n",
            " 51  input52  5620 non-null   int64\n",
            " 52  input53  5620 non-null   int64\n",
            " 53  input54  5620 non-null   int64\n",
            " 54  input55  5620 non-null   int64\n",
            " 55  input56  5620 non-null   int64\n",
            " 56  input57  5620 non-null   int64\n",
            " 57  input58  5620 non-null   int64\n",
            " 58  input59  5620 non-null   int64\n",
            " 59  input60  5620 non-null   int64\n",
            " 60  input61  5620 non-null   int64\n",
            " 61  input62  5620 non-null   int64\n",
            " 62  input63  5620 non-null   int64\n",
            " 63  input64  5620 non-null   int64\n",
            " 64  class    5620 non-null   int64\n",
            "dtypes: int64(65)\n",
            "memory usage: 2.8 MB\n",
            "None\n"
          ]
        }
      ]
    },
    {
      "cell_type": "code",
      "source": [
        "# Tách dữ liệu thành X (features) và y (target label)\n",
        "X = data.iloc[:, :-1]  # Tất cả cột trừ cột cuối (features)\n",
        "y = data.iloc[:, -1]   # Cột cuối cùng (label)\n",
        "\n",
        "# Bảo đảm dữ liệu ngẫu nhiên\n",
        "X, y = shuffle(X, y, random_state=42)"
      ],
      "metadata": {
        "id": "G5_UD3gp_g0g"
      },
      "execution_count": 4,
      "outputs": []
    },
    {
      "cell_type": "markdown",
      "source": [
        "a) Test bằng % split và k-cross validation (k=10)"
      ],
      "metadata": {
        "id": "oxX4UvMJ_zOD"
      }
    },
    {
      "cell_type": "code",
      "source": [
        "# Chia dữ liệu thành tập huấn luyện và tập kiểm tra theo tỉ lệ 70/30\n",
        "X_train, X_test, y_train, y_test = train_test_split(X, y, test_size=0.3, stratify=y, random_state=42)\n",
        "\n",
        "# Tạo mô hình Cây Quyết Định\n",
        "dtree = DecisionTreeClassifier(random_state=42)\n",
        "\n",
        "# Phương pháp 1: % split\n",
        "print(\"\\nKết quả với phương pháp % split:\")\n",
        "dtree.fit(X_train, y_train)\n",
        "y_pred = dtree.predict(X_test)\n",
        "\n",
        "# Đánh giá mô hình\n",
        "print(\"Confusion Matrix:\")\n",
        "print(confusion_matrix(y_test, y_pred))\n",
        "print(\"Classification Report:\")\n",
        "print(classification_report(y_test, y_pred))\n",
        "print(\"Accuracy:\", accuracy_score(y_test, y_pred))\n",
        "\n",
        "# Phương pháp 2: K-Fold Cross Validation (k=10)\n",
        "print(\"\\nKết quả với phương pháp k-cross validation (k=10):\")\n",
        "cv = StratifiedKFold(n_splits=10, shuffle=True, random_state=42)\n",
        "cv_scores = cross_val_score(dtree, X, y, cv=cv, scoring='accuracy')\n",
        "\n",
        "print(f\"Độ chính xác trung bình: {np.mean(cv_scores):.4f}\")\n",
        "print(f\"Độ lệch chuẩn: {np.std(cv_scores):.4f}\")"
      ],
      "metadata": {
        "colab": {
          "base_uri": "https://localhost:8080/"
        },
        "id": "DZdUuRmX_1v0",
        "outputId": "0ad0bda5-2844-4bc8-a764-52d506fe9152"
      },
      "execution_count": 5,
      "outputs": [
        {
          "output_type": "stream",
          "name": "stdout",
          "text": [
            "\n",
            "Kết quả với phương pháp % split:\n",
            "Confusion Matrix:\n",
            "[[162   0   0   0   0   0   0   1   3   0]\n",
            " [  0 143   5   1   1   5   3   2   2   9]\n",
            " [  0   2 158   0   1   0   2   1   3   0]\n",
            " [  0   4   2 155   0   3   0   0   3   5]\n",
            " [  4   2   0   0 144   3   9   1   2   6]\n",
            " [  3   5   1   2   5 139   0   1   4   7]\n",
            " [  0   2   1   0   0   1 163   0   0   0]\n",
            " [  0   0   3   0   2   0   0 163   1   1]\n",
            " [  2  14   2   1   3   4   1   1 134   4]\n",
            " [  1   2   1   5   1   1   0   3   4 151]]\n",
            "Classification Report:\n",
            "              precision    recall  f1-score   support\n",
            "\n",
            "           0       0.94      0.98      0.96       166\n",
            "           1       0.82      0.84      0.83       171\n",
            "           2       0.91      0.95      0.93       167\n",
            "           3       0.95      0.90      0.92       172\n",
            "           4       0.92      0.84      0.88       171\n",
            "           5       0.89      0.83      0.86       167\n",
            "           6       0.92      0.98      0.94       167\n",
            "           7       0.94      0.96      0.95       170\n",
            "           8       0.86      0.81      0.83       166\n",
            "           9       0.83      0.89      0.86       169\n",
            "\n",
            "    accuracy                           0.90      1686\n",
            "   macro avg       0.90      0.90      0.90      1686\n",
            "weighted avg       0.90      0.90      0.90      1686\n",
            "\n",
            "Accuracy: 0.896797153024911\n",
            "\n",
            "Kết quả với phương pháp k-cross validation (k=10):\n",
            "Độ chính xác trung bình: 0.9064\n",
            "Độ lệch chuẩn: 0.0142\n"
          ]
        }
      ]
    },
    {
      "cell_type": "markdown",
      "source": [
        "So sánh: Nếu độ chính xác trung bình của K-Fold cao hơn, chứng tỏ mô hình ổn định hơn so với % split. (Accuracy)\n",
        "\n",
        "So sánh: Phương pháp nào có độ lệch chuẩn nhỏ hơn thì mô hình đáng tin cậy hơn.\n",
        "So sánh: Nếu Confusion Matrix và các chỉ số như Precision, Recall, F1-Score của % split chấp nhận được và tương đương kết quả k-fold, có thể chọn phương pháp này để tiết kiệm thời gian.\n",
        "\n",
        "Nếu thời gian không phải là vấn đề, K-Fold Cross Validation thường được xem là tốt hơn vì nó cung cấp đánh giá toàn diện và ổn định hơn.\n",
        "Nếu muốn đánh giá nhanh hoặc khi dữ liệu rất lớn, % Split có thể đủ để kiểm tra mô hình.\n"
      ],
      "metadata": {
        "id": "eGTOpm2CAsp_"
      }
    },
    {
      "cell_type": "code",
      "source": [
        "#b)\n",
        "# Chia dữ liệu thành TrainData và TestData\n",
        "X_train, X_test, y_train, y_test = train_test_split(X, y, test_size=0.1, stratify=y, random_state=42)\n",
        "\n",
        "# Lưu TrainData và TestData ra file\n",
        "train_data = pd.concat([X_train, y_train], axis=1)\n",
        "test_data = pd.concat([X_test, y_test], axis=1)\n",
        "\n",
        "train_data.to_csv('TrainData.csv', index=False)\n",
        "test_data.to_csv('TestData.csv', index=False)\n",
        "\n",
        "print(\"\\nTrainData và TestData đã được lưu thành công.\")\n"
      ],
      "metadata": {
        "colab": {
          "base_uri": "https://localhost:8080/"
        },
        "id": "ks-PcBLaA0n3",
        "outputId": "ae7b1836-3503-41fa-d333-6596980fc0fc"
      },
      "execution_count": 6,
      "outputs": [
        {
          "output_type": "stream",
          "name": "stdout",
          "text": [
            "\n",
            "TrainData và TestData đã được lưu thành công.\n"
          ]
        }
      ]
    },
    {
      "cell_type": "code",
      "source": [
        "# Huấn luyện lại mô hình với TrainData\n",
        "dtree.fit(X_train, y_train)\n",
        "y_pred_test = dtree.predict(X_test)\n",
        "#c)\n",
        "# Đánh giá mô hình trên TestData\n",
        "print(\"\\nKết quả trên TestData:\")\n",
        "print(\"\\nConfusion Matrix:\")\n",
        "print(confusion_matrix(y_test, y_pred_test))\n",
        "print(\"\\nClassification Report:\")\n",
        "print(classification_report(y_test, y_pred_test))\n",
        "print(\"\\nAccuracy:\", accuracy_score(y_test, y_pred_test))\n"
      ],
      "metadata": {
        "colab": {
          "base_uri": "https://localhost:8080/"
        },
        "id": "iWjVJV8RBkaY",
        "outputId": "4e430d93-d3d1-4dfe-85ba-50e42ba1e5ce"
      },
      "execution_count": 7,
      "outputs": [
        {
          "output_type": "stream",
          "name": "stdout",
          "text": [
            "\n",
            "Kết quả trên TestData:\n",
            "\n",
            "Confusion Matrix:\n",
            "[[55  0  0  0  0  0  0  0  0  0]\n",
            " [ 0 51  1  1  0  1  0  0  2  1]\n",
            " [ 0  1 52  2  0  0  0  0  1  0]\n",
            " [ 0  0  2 53  0  1  0  0  1  0]\n",
            " [ 0  1  0  0 52  1  1  0  1  1]\n",
            " [ 0  0  0  0  0 55  0  0  1  0]\n",
            " [ 0  0  0  0  0  1 55  0  0  0]\n",
            " [ 0  1  0  0  0  0  0 54  1  1]\n",
            " [ 0  2  1  4  3  0  1  0 43  1]\n",
            " [ 0  1  0  0  2  1  0  0  0 52]]\n",
            "\n",
            "Classification Report:\n",
            "              precision    recall  f1-score   support\n",
            "\n",
            "           0       1.00      1.00      1.00        55\n",
            "           1       0.89      0.89      0.89        57\n",
            "           2       0.93      0.93      0.93        56\n",
            "           3       0.88      0.93      0.91        57\n",
            "           4       0.91      0.91      0.91        57\n",
            "           5       0.92      0.98      0.95        56\n",
            "           6       0.96      0.98      0.97        56\n",
            "           7       1.00      0.95      0.97        57\n",
            "           8       0.86      0.78      0.82        55\n",
            "           9       0.93      0.93      0.93        56\n",
            "\n",
            "    accuracy                           0.93       562\n",
            "   macro avg       0.93      0.93      0.93       562\n",
            "weighted avg       0.93      0.93      0.93       562\n",
            "\n",
            "\n",
            "Accuracy: 0.9288256227758007\n"
          ]
        }
      ]
    },
    {
      "cell_type": "code",
      "source": [
        "#Câu 2\n",
        "# Tạo mô hình Naïve Bayes\n",
        "nb_model = GaussianNB()\n",
        "\n",
        "# Huấn luyện với TrainData\n",
        "nb_model.fit(X_train, y_train)\n",
        "\n",
        "# Dự đoán trên TestData\n",
        "y_pred_nb = nb_model.predict(X_test)\n",
        "\n",
        "# Đánh giá kết quả\n",
        "print(\\\"\\\\nKết quả của Naïve Bayes trên TestData:\\\")\n",
        "print(\\\"Confusion Matrix:\\\")\n",
        "print(confusion_matrix(y_test, y_pred_nb))\n",
        "print(\\\"Classification Report:\\\")\n",
        "print(classification_report(y_test, y_pred_nb))\n",
        "print(\\\"Accuracy:\\\", accuracy_score(y_test, y_pred_nb))\n"
      ],
      "metadata": {
        "id": "9TFeFKksB5SM"
      },
      "execution_count": null,
      "outputs": []
    },
    {
      "cell_type": "code",
      "source": [
        "print(\\\"\\\\nSo sánh kết quả giữa Cây Quyết Định và Naïve Bayes:\\\")\n",
        "accuracy_dtree = accuracy_score(y_test, y_pred_test)\n",
        "accuracy_nb = accuracy_score(y_test, y_pred_nb)\n",
        "\n",
        "print(f\\\"Accuracy của Cây Quyết Định: {accuracy_dtree:.4f}\\\")\n",
        "print(f\\\"Accuracy của Naïve Bayes: {accuracy_nb:.4f}\\\")\n",
        "\n",
        "if accuracy_dtree > accuracy_nb:\n",
        "    print(\\\"=> Cây Quyết Định cho kết quả tốt hơn.\\\")\n",
        "else:\n",
        "    print(\\\"=> Naïve Bayes cho kết quả tốt hơn.\\\")\n"
      ],
      "metadata": {
        "id": "m4Ygq8G9Cg2E"
      },
      "execution_count": null,
      "outputs": []
    }
  ]
}