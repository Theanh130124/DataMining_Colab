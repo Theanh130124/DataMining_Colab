{
  "nbformat": 4,
  "nbformat_minor": 0,
  "metadata": {
    "colab": {
      "provenance": [],
      "authorship_tag": "ABX9TyMWpALYGHXcMGZ5j2DY1qTr",
      "include_colab_link": true
    },
    "kernelspec": {
      "name": "python3",
      "display_name": "Python 3"
    },
    "language_info": {
      "name": "python"
    }
  },
  "cells": [
    {
      "cell_type": "markdown",
      "metadata": {
        "id": "view-in-github",
        "colab_type": "text"
      },
      "source": [
        "<a href=\"https://colab.research.google.com/github/Theanh130124/Datamining_srccode/blob/main/BTTH7_C%C3%A2y_quy%E1%BA%BFt_%C4%91%E1%BB%8Bnh_.ipynb\" target=\"_parent\"><img src=\"https://colab.research.google.com/assets/colab-badge.svg\" alt=\"Open In Colab\"/></a>"
      ]
    },
    {
      "cell_type": "markdown",
      "source": [
        "Cây quyết định"
      ],
      "metadata": {
        "id": "-wvlB2OPt3ED"
      }
    },
    {
      "cell_type": "code",
      "execution_count": null,
      "metadata": {
        "id": "mVNtCOsTsR91"
      },
      "outputs": [],
      "source": [
        "import pandas as pd\n",
        "from sklearn.model_selection import train_test_split, GridSearchCV\n",
        "from sklearn.tree import DecisionTreeClassifier\n",
        "from sklearn.metrics import accuracy_score\n",
        "from sklearn.tree import export_text\n",
        "from sklearn.tree import export_graphviz\n",
        "import graphviz\n",
        "# Đọc dữ liệu từ file data.xis\n",
        "data pd.read_excel (\"/content/drive/MyDrive/Colab Notebooks/KPDL/CAC BUOI THUC HANH/BTH06/Collected_Hr_data_performances.xls\")\n",
        "# Chọn các cột đặc trưng và cột nhãn\n",
        "features = data[[\"Age\", \"Gender\", \"MaritalStatus\", \"EducationLevel\", \"EducationBackground\", \"JobRole\", \"EnvironmentSatisfaction\", \"RelationshipSatisfaction\",\n",
        "\"WorkLifeBalance\", \"TotalWorkExperienceInYears\", \"ExperienceYears InCurrentRole\"]]\n",
        "labels = data[\"PerformanceResult\"]\n",
        "# Chuyển đổi các cột dữ liệu dạng văn bản thành dạng số (phải thực hiện để huấn luyện mô hình) features= pd.get_dummies (features)\n",
        "features = pd.get_dummies (features)\n",
        "# Thay thế các ký tự không hợp lệ hoặc đặc biệt bằng khoảng trắng\n",
        "features\n",
        "features.columns = features.columns.str.replace('[^a-zA-Z0-9]', ' ', regex=True)\n",
        "# Tách dữ liệu thành hai tập Train và Test\n",
        "train_features, test_features, train_labels, test_labels - train_test_split (features, labels, test_size 0.2, random_state=42)\n",
        "# a Xây dựng mô hình Cây quyết định (348) và định nghĩa các giá trị tham số cần thử nghiệm\n",
        "param_grid{\n",
        "\n",
        "'criterion': ['gini', 'entropy'],\n",
        "'splitter': ['best',' ' 'random'],\n",
        "'max_depth': [None, 10, 20, 30],\n",
        " 'min_samples_split': [2, 5, 10],\n",
        " 'min_samples leaf': [1, 2, 4]\n",
        "}\n",
        "# Tạo mô hình Cây quyết định (348) clf DecisionTreeClassifier()\n",
        "clf = DecisionTreeClassifier()"
      ]
    },
    {
      "cell_type": "markdown",
      "source": [],
      "metadata": {
        "id": "Wi_9wgxDvlz_"
      }
    },
    {
      "cell_type": "code",
      "source": [
        "#sử dụng GridsearchCV để thử nghiệm các tham số và lựa chọn mô hình tốt nhất\n",
        "grid_search = GridSearchCV(clf, param_grid, cv-5, scoring='accuracy')\n",
        "grid_search.fit(train_features, train_labels)\n",
        "#* Lựa chọn mô hình tốt nhất sau khi thử nghiệm\n",
        "best_clf = grid_search.best_estimator_\n",
        "# * In ra các thông số tốt nhất của mô hình\n",
        "print(\"Best Parameters:\", grid_search.best_params_)\n",
        "print(\"Best Accuracy:\", grid search.best_score_)\n",
        "#  In các luật được học từ cây quyết định\n",
        "# tree rules export text (best clf, feature_names-list(train_features.columns))\n",
        "# a print(\"Các luật đánh giá năng lực nhân viên:\")\n",
        "# print(tree rules)\n",
        "# m Tạo biểu diễn đô thị cho cây quyết định\n",
        "dot_data = export_graphviz(best_clf, out_file=None, feature_names=list(train_features.columns), class_names=best_clf.classes_, filled=True, rounded=True, special_characters=True)\n",
        "\n",
        "# * Hiển thị đô thị\n",
        "graph= graphviz.Source(dot_data)\n",
        "graph.render(filename='/content/drive/MyDrive/Colab Notebooks/KPDL/CAC BUOI THUC HANH/8TH86/Res/ds1', format='png', cleanup=True)\n",
        "graph.view()\n"
      ],
      "metadata": {
        "id": "qmfPdNriu7KK"
      },
      "execution_count": null,
      "outputs": []
    },
    {
      "cell_type": "code",
      "source": [
        "# Dự đoán kết quả trên tập Test bằng mô hình tốt nhất đã lựa chọn\n",
        " predictions = best_clf.predict(test_features)\n",
        "# * Đánh giá hiệu suất của mô hình tốt nhất trên tập Test\n",
        "accuracy = accuracy_score (test_labels, predictions)\n",
        " print(\"Accuracy on Test Set:\", accuracy)"
      ],
      "metadata": {
        "id": "eUVPLjQdzH-w"
      },
      "execution_count": null,
      "outputs": []
    }
  ]
}