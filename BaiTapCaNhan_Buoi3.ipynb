{
  "nbformat": 4,
  "nbformat_minor": 0,
  "metadata": {
    "colab": {
      "provenance": [],
      "authorship_tag": "ABX9TyMgbQgk1GARjGSUROmm5lfi",
      "include_colab_link": true
    },
    "kernelspec": {
      "name": "python3",
      "display_name": "Python 3"
    },
    "language_info": {
      "name": "python"
    }
  },
  "cells": [
    {
      "cell_type": "markdown",
      "metadata": {
        "id": "view-in-github",
        "colab_type": "text"
      },
      "source": [
        "<a href=\"https://colab.research.google.com/github/Theanh130124/Datamining_srccode/blob/main/BaiTapCaNhan_Buoi3.ipynb\" target=\"_parent\"><img src=\"https://colab.research.google.com/assets/colab-badge.svg\" alt=\"Open In Colab\"/></a>"
      ]
    },
    {
      "cell_type": "markdown",
      "source": [
        "2251012005__Trần Thế Anh"
      ],
      "metadata": {
        "id": "p-oCNoqj1Vlj"
      }
    },
    {
      "source": [
        "!pip install mlxtend openpyxl\n",
        "import pandas as pd\n",
        "from mlxtend.preprocessing import TransactionEncoder\n",
        "from mlxtend.frequent_patterns import apriori, association_rules\n",
        "import re\n",
        "\n",
        "# Đọc dữ liệu từ file CSV\n",
        "df = pd.read_csv('/content/mon_an_chuan_hoa.csv')\n",
        "\n",
        "# Lọc các món ăn quan tâm\n",
        "target_foods = ['Cơm', 'Phở', 'Hủ tiếu', 'Mì', 'Bún', 'Bánh mì']\n",
        "# Giả sử đây là các chuỗi con trong cột \"Món ăn\"\n",
        "food_column_name = df.columns[0] # Lấy tên cột đầu tiên làm tên cột chứa chuỗi con\n",
        "\n",
        "# Tạo danh sách transactions (giao dịch)\n",
        "transactions = []\n",
        "for index, row in df.iterrows():\n",
        "    food_list = []\n",
        "    value = row[food_column_name]\n",
        "    if isinstance(value, float):\n",
        "        value = str(value)\n",
        "\n",
        "    # Kiểm tra từng từ khóa và thêm món ăn tương ứng\n",
        "    if re.search(r\"Bánh bao\", value, re.IGNORECASE):\n",
        "        food_list.append(\"Bánh bao\") # Hoặc \"Bánh bao\" nếu muốn tách riêng\n",
        "    if re.search(r\"Bánh mì\", value, re.IGNORECASE):\n",
        "        food_list.append(\"Bánh mì\")\n",
        "    if re.search(r\"Hủ tiếu\", value, re.IGNORECASE):\n",
        "        food_list.append(\"Hủ tiếu\")\n",
        "    if re.search(r\"Mì\", value, re.IGNORECASE):\n",
        "        food_list.append(\"Mì\")\n",
        "    if re.search(r\"Phở\", value, re.IGNORECASE):\n",
        "        food_list.append(\"Phở\")\n",
        "    if re.search(r\"Bún\", value, re.IGNORECASE):\n",
        "        food_list.append(\"Bún\")\n",
        "    if re.search(r\"Cơm\", value, re.IGNORECASE):\n",
        "        food_list.append(\"Cơm\")\n",
        "\n",
        "    if food_list:  # Thêm vào transactions chỉ khi food_list không rỗng\n",
        "          transactions.append(food_list)\n",
        "\n",
        "# Mã hóa transactions (biến đổi thành dạng one-hot encoding)\n",
        "te = TransactionEncoder()\n",
        "te_ary = te.fit(transactions).transform(transactions)\n",
        "df_encoded = pd.DataFrame(te_ary, columns=te.columns_)\n",
        "df_encoded = df_encoded.astype(int)\n",
        "print(df_encoded)\n",
        "\n",
        "# Áp dụng thuật toán Apriori để tìm các luật kết hợp\n",
        "frequent_itemsets = apriori(df_encoded, min_support=0.01, use_colnames=1)\n",
        "\n",
        "# Tìm các luật kết hợp dựa trên frequent itemsets và độ tin cậy\n",
        "rules = association_rules(frequent_itemsets, metric=\"confidence\", min_threshold=0.04, num_itemsets=2)\n",
        "\n",
        "df_encoded.to_csv(\"encoded_data.csv\", index=False)\n",
        "\n",
        "# In ra danh sách các món ăn có liên hệ\n",
        "print(\"Danh sách các món ăn có liên hệ:\")\n",
        "for index, row in rules.iterrows():\n",
        "    antecedents = list(row['antecedents'])\n",
        "    consequents = list(row['consequents'])\n",
        "    print(f\"- Nếu khách hàng gọi món {', '.join(antecedents)}, họ cũng có thể gọi món {', '.join(consequents)}\")"
      ],
      "cell_type": "code",
      "metadata": {
        "colab": {
          "base_uri": "https://localhost:8080/"
        },
        "id": "YKzHgDnWEVsE",
        "outputId": "6042f5f7-0850-4c78-baf4-0fd315c7a70a"
      },
      "execution_count": 55,
      "outputs": [
        {
          "output_type": "stream",
          "name": "stderr",
          "text": [
            "/usr/local/lib/python3.10/dist-packages/ipykernel/ipkernel.py:283: DeprecationWarning: `should_run_async` will not call `transform_cell` automatically in the future. Please pass the result to `transformed_cell` argument and any exception that happen during thetransform in `preprocessing_exc_tuple` in IPython 7.17 and above.\n",
            "  and should_run_async(code)\n"
          ]
        },
        {
          "output_type": "stream",
          "name": "stdout",
          "text": [
            "Requirement already satisfied: mlxtend in /usr/local/lib/python3.10/dist-packages (0.23.2)\n",
            "Requirement already satisfied: openpyxl in /usr/local/lib/python3.10/dist-packages (3.1.5)\n",
            "Requirement already satisfied: scipy>=1.2.1 in /usr/local/lib/python3.10/dist-packages (from mlxtend) (1.13.1)\n",
            "Requirement already satisfied: numpy>=1.16.2 in /usr/local/lib/python3.10/dist-packages (from mlxtend) (1.26.4)\n",
            "Requirement already satisfied: pandas>=0.24.2 in /usr/local/lib/python3.10/dist-packages (from mlxtend) (2.2.2)\n",
            "Requirement already satisfied: scikit-learn>=1.3.1 in /usr/local/lib/python3.10/dist-packages (from mlxtend) (1.5.2)\n",
            "Requirement already satisfied: matplotlib>=3.0.0 in /usr/local/lib/python3.10/dist-packages (from mlxtend) (3.8.0)\n",
            "Requirement already satisfied: joblib>=0.13.2 in /usr/local/lib/python3.10/dist-packages (from mlxtend) (1.4.2)\n",
            "Requirement already satisfied: et-xmlfile in /usr/local/lib/python3.10/dist-packages (from openpyxl) (2.0.0)\n",
            "Requirement already satisfied: contourpy>=1.0.1 in /usr/local/lib/python3.10/dist-packages (from matplotlib>=3.0.0->mlxtend) (1.3.1)\n",
            "Requirement already satisfied: cycler>=0.10 in /usr/local/lib/python3.10/dist-packages (from matplotlib>=3.0.0->mlxtend) (0.12.1)\n",
            "Requirement already satisfied: fonttools>=4.22.0 in /usr/local/lib/python3.10/dist-packages (from matplotlib>=3.0.0->mlxtend) (4.54.1)\n",
            "Requirement already satisfied: kiwisolver>=1.0.1 in /usr/local/lib/python3.10/dist-packages (from matplotlib>=3.0.0->mlxtend) (1.4.7)\n",
            "Requirement already satisfied: packaging>=20.0 in /usr/local/lib/python3.10/dist-packages (from matplotlib>=3.0.0->mlxtend) (24.2)\n",
            "Requirement already satisfied: pillow>=6.2.0 in /usr/local/lib/python3.10/dist-packages (from matplotlib>=3.0.0->mlxtend) (11.0.0)\n",
            "Requirement already satisfied: pyparsing>=2.3.1 in /usr/local/lib/python3.10/dist-packages (from matplotlib>=3.0.0->mlxtend) (3.2.0)\n",
            "Requirement already satisfied: python-dateutil>=2.7 in /usr/local/lib/python3.10/dist-packages (from matplotlib>=3.0.0->mlxtend) (2.8.2)\n",
            "Requirement already satisfied: pytz>=2020.1 in /usr/local/lib/python3.10/dist-packages (from pandas>=0.24.2->mlxtend) (2024.2)\n",
            "Requirement already satisfied: tzdata>=2022.7 in /usr/local/lib/python3.10/dist-packages (from pandas>=0.24.2->mlxtend) (2024.2)\n",
            "Requirement already satisfied: threadpoolctl>=3.1.0 in /usr/local/lib/python3.10/dist-packages (from scikit-learn>=1.3.1->mlxtend) (3.5.0)\n",
            "Requirement already satisfied: six>=1.5 in /usr/local/lib/python3.10/dist-packages (from python-dateutil>=2.7->matplotlib>=3.0.0->mlxtend) (1.16.0)\n",
            "     Bánh bao  Bánh mì  Bún  Cơm  Hủ tiếu  Mì  Phở\n",
            "0           1        0    0    0        0   0    0\n",
            "1           1        0    0    0        0   0    0\n",
            "2           1        0    0    0        0   0    0\n",
            "3           1        0    0    0        0   0    0\n",
            "4           1        0    0    0        0   0    0\n",
            "..        ...      ...  ...  ...      ...  ..  ...\n",
            "295         0        0    0    0        0   0    1\n",
            "296         0        0    0    0        0   0    1\n",
            "297         0        0    0    0        0   0    1\n",
            "298         0        0    0    0        0   0    1\n",
            "299         0        0    0    0        0   0    1\n",
            "\n",
            "[300 rows x 7 columns]\n",
            "Danh sách các món ăn có liên hệ:\n",
            "- Nếu khách hàng gọi món Mì, họ cũng có thể gọi món Bánh mì\n",
            "- Nếu khách hàng gọi món Bánh mì, họ cũng có thể gọi món Mì\n",
            "- Nếu khách hàng gọi món Hủ tiếu, họ cũng có thể gọi món Mì\n",
            "- Nếu khách hàng gọi món Mì, họ cũng có thể gọi món Hủ tiếu\n"
          ]
        },
        {
          "output_type": "stream",
          "name": "stderr",
          "text": [
            "/usr/local/lib/python3.10/dist-packages/mlxtend/frequent_patterns/fpcommon.py:161: DeprecationWarning: DataFrames with non-bool types result in worse computationalperformance and their support might be discontinued in the future.Please use a DataFrame with bool type\n",
            "  warnings.warn(\n"
          ]
        }
      ]
    }
  ]
}