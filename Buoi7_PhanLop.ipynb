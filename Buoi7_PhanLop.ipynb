{
  "nbformat": 4,
  "nbformat_minor": 0,
  "metadata": {
    "colab": {
      "provenance": [],
      "authorship_tag": "ABX9TyPNv4yT9Lgv632mvz8MvDmu",
      "include_colab_link": true
    },
    "kernelspec": {
      "name": "python3",
      "display_name": "Python 3"
    },
    "language_info": {
      "name": "python"
    }
  },
  "cells": [
    {
      "cell_type": "markdown",
      "metadata": {
        "id": "view-in-github",
        "colab_type": "text"
      },
      "source": [
        "<a href=\"https://colab.research.google.com/github/Theanh130124/Datamining_srccode/blob/main/Buoi7_PhanLop.ipynb\" target=\"_parent\"><img src=\"https://colab.research.google.com/assets/colab-badge.svg\" alt=\"Open In Colab\"/></a>"
      ]
    },
    {
      "cell_type": "markdown",
      "source": [
        "Dùng cho Bank-data-cluting"
      ],
      "metadata": {
        "id": "Oc-GQrbwTzUt"
      }
    },
    {
      "cell_type": "code",
      "execution_count": null,
      "metadata": {
        "id": "fNTMrMqXTZkU"
      },
      "outputs": [],
      "source": [
        "import pandas as pd\n",
        "df = pd.read_csv()\n",
        "df"
      ]
    },
    {
      "cell_type": "code",
      "source": [
        "from sklearn.preprocessing import LabelEncoder\n",
        "# Các cột categorical cần convert thành dạng số\n",
        "le = LabelEncoder()\n",
        "df['sex'] = le.fit_transform(df['sex'])\n",
        "df[ 'region'] = le.fit_transform(df['region'])\n",
        "df['married'] = le.fit_transform(df['married'])\n",
        "df['car'] = le.fit_transform(df['car'])\n",
        "df['save act'] =le.fit_transform(df['save_act'])\n",
        "df['current_act'] = le.fit_transform(df['current_act'])\n",
        "df['mortgage'] = le.fit_transform(df['mortgage'])\n",
        "# ** Cột 'pep' là target nên không cần chuẩn hóa.\n",
        "df.to_csv('/content/drive/MyDrive/Colab Notebooks/KPDL/CAC BUOI THUC HANH/BTH07/Bank-Data-Clustering_std.csv', index=False)\n",
        "df"
      ],
      "metadata": {
        "id": "hropGf-VUFLJ"
      },
      "execution_count": null,
      "outputs": []
    },
    {
      "cell_type": "code",
      "source": [
        "#Tách thành 2 tập tin Train và Test , trong đó Test chứa 50 dòng cuối\n",
        "df_train = df.iloc[:-50]\n",
        "df_test = df.iloc[-50:]\n",
        "df_train.to_csv('', index=False)\n",
        "df_test.to_csv('', index=False)"
      ],
      "metadata": {
        "id": "XnsnSQbWVM9u"
      },
      "execution_count": null,
      "outputs": []
    },
    {
      "cell_type": "code",
      "source": [
        "from sklearn.cluster import KMeans\n",
        "#Loại bỏ cột 'pep' từ cả 2 tập tin dữ liệu Train và Test\n",
        "X_train = df_train.drop('pep', axis=1)\n",
        "X_test = df_test.drop('pep', axis=1)\n",
        "#Thực hiện gom cụm KMean tập Train với k-2 ,3 ,4\n",
        "kmeans2 = Kmeans(n_clusters=2 , random_state=0).fit(X_train)\n",
        "kmeans3 = Kmeans(n_clusters=3 , random_state=0).fit(X_train)\n",
        "kmeans4 = Kmeans(n_clusters=4 , random_state=0).fit(X_train)\n"
      ],
      "metadata": {
        "id": "cyoZJuR1VkOp"
      },
      "execution_count": null,
      "outputs": []
    },
    {
      "cell_type": "code",
      "source": [
        "X_train = df_train.drop(\"pep\", axis=1)\n",
        "y_pred_2 = kmeans2.predict(X_train) #k=2\n",
        "y_pred 3 - kmeans3.predict(X_train) #k=3\n",
        "y_pred_4 = kmeans4.predict(X_train) #k=4\n",
        "import matplotlib.pyplot as plt\n",
        "plt.xlabel('Age')\n",
        "plt.ylabel('Income')\n",
        "plt.scatter(X_train['age'], X_train['income'] , c=y_pred_2)\n",
        "plt.show()\n",
        "plt.scatter(X_train['age'], X_train['income'] , c=y_pred_3)\n",
        "plt.show()\n",
        "plt.scatter(X_train['age'], X_train['income'] , c=y_pred_4)\n",
        "plt.show()"
      ],
      "metadata": {
        "id": "ZSxPp-goWbC_"
      },
      "execution_count": null,
      "outputs": []
    },
    {
      "cell_type": "code",
      "source": [
        "from sklearn.metrics import confusion_matrix , classification_report\n",
        "le = LabelEncoder()\n",
        "df_train['pep'] = le.fit_transform(df_train['pep'])\n",
        "y_train = df_train['pep']\n",
        "print(confusion_matrix(y_train, y_pred_2))\n",
        "print(classification_report(y_train, y_pred_2))\n",
        "#"
      ],
      "metadata": {
        "id": "WwnAh9kbXSwv"
      },
      "execution_count": null,
      "outputs": []
    },
    {
      "cell_type": "code",
      "source": [
        "\n",
        "# Fit model KMeans với dữ liệu đã được chuẩn hóa:\n",
        "X_test = df_test.drop('pep', axis=1)\n",
        "y_pred_2 = kmeans2.predict(X_test) #k=2\n",
        "y_pred_3 = kmeans3.predict(X_test) #k=3\n",
        "y_pred_4 kmeans4.predict(X_test) #k=4\n",
        "import matplotlib.pyplot as plt\n",
        "plt.xlabel('Age')\n",
        " plt.ylabel('Income')\n",
        "plt.scatter (X_test['age'], X_test['income'], c=y_pred_2)\n",
        "plt.show()\n",
        "plt.scatter (X_test['age'], X_test['income'], c-y_pred_3)\n",
        "plt.show()\n",
        "plt.scatter(X_test['age'], X_test['income'], c=y_pred_4)\n",
        "plt.show()"
      ],
      "metadata": {
        "id": "AJg5ACi0X6ds"
      },
      "execution_count": null,
      "outputs": []
    },
    {
      "cell_type": "code",
      "source": [
        "from sklearn.metrics import confusion_matrix , classification_report\n",
        "le = LabelEncoder()\n",
        "df_test['pep'] = le.fit_transform(df_test['pep'])\n",
        "y_true = df_test['pep']\n",
        "print(confusion_matrix(y_true, y_pred_2))\n",
        "print(classification_report(y_true, y_pred_2))\n",
        "#"
      ],
      "metadata": {
        "id": "txSHHFegYXiK"
      },
      "execution_count": null,
      "outputs": []
    }
  ]
}